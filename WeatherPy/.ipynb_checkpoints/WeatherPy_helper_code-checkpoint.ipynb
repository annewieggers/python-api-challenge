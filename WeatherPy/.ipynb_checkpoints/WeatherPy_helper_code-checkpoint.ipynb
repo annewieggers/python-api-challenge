{
 "cells": [
  {
   "cell_type": "markdown",
   "metadata": {},
   "source": [
    "These are the imports we will need. We also need to bring in out openweather API, "
   ]
  },
  {
   "cell_type": "code",
   "execution_count": 1,
   "metadata": {},
   "outputs": [],
   "source": [
    "# Dependencies and Setup\n",
    "import matplotlib.pyplot as plt\n",
    "import pandas as pd\n",
    "import numpy as np\n",
    "import requests\n",
    "import time\n",
    "from scipy.stats import linregress\n",
    "import json\n",
    "\n",
    "# Import API key\n",
    "from api_keys import weather_api_key\n",
    "\n",
    "# Incorporated citipy to determine city based on latitude and longitude\n",
    "from citipy import citipy\n"
   ]
  },
  {
   "cell_type": "markdown",
   "metadata": {},
   "source": [
    "We need to generate a list of cities using lat and long pairs. To do this, lets create a random list of lat long pairs. Let's start by defining the min and max (valid) values of lat an long."
   ]
  },
  {
   "cell_type": "code",
   "execution_count": 2,
   "metadata": {},
   "outputs": [],
   "source": [
    "# Range of latitudes and longitudes\n",
    "lat_range = (-90, 90)\n",
    "lng_range = (-180, 180)"
   ]
  },
  {
   "cell_type": "markdown",
   "metadata": {},
   "source": [
    "Next, we will create two lists:\n",
    "1. For the lat long pairs\n",
    "2. For the cities we determine based on the lat long pairs"
   ]
  },
  {
   "cell_type": "code",
   "execution_count": 3,
   "metadata": {},
   "outputs": [],
   "source": [
    "# List for holding lat_lngs and cities\n",
    "lat_lngs = []\n",
    "cities = []"
   ]
  },
  {
   "cell_type": "markdown",
   "metadata": {},
   "source": [
    "Below uses numpy to create two random lists of numbers, one for lats one for longs. Note the arguments we pass in to each (i.e. the min max values defined above). We used zip to combine the single lat long values into pairs, creating a coordinate (see the zip() documentation if unsure). "
   ]
  },
  {
   "cell_type": "code",
   "execution_count": 4,
   "metadata": {},
   "outputs": [],
   "source": [
    "# Create a set of random lat and lng combinations\n",
    "lats = np.random.uniform(lat_range[0], lat_range[1], size=1500)\n",
    "lngs = np.random.uniform(lng_range[0], lng_range[1], size=1500)\n",
    "lat_lngs = zip(lats, lngs)"
   ]
  },
  {
   "cell_type": "markdown",
   "metadata": {},
   "source": [
    "Next, we iterate over our zipped list and take the value as position 0 and 1, passing it into the call to citipy.nearest_city(lat_lng[0], lat_lng[1]).city_name. If you don't know how citipy.nearest_city() works, consult the documentation. "
   ]
  },
  {
   "cell_type": "code",
   "execution_count": 5,
   "metadata": {},
   "outputs": [
    {
     "data": {
      "text/plain": [
       "637"
      ]
     },
     "execution_count": 5,
     "metadata": {},
     "output_type": "execute_result"
    }
   ],
   "source": [
    "# Identify nearest city for each lat, lng combination\n",
    "for lat_lng in lat_lngs:\n",
    "    city = citipy.nearest_city(lat_lng[0], lat_lng[1]).city_name\n",
    "    \n",
    "    # If the city is unique, then add it to a our cities list\n",
    "    if city not in cities:\n",
    "        cities.append(city)\n",
    "\n",
    "# Print the city count to confirm sufficient count\n",
    "len(cities)"
   ]
  },
  {
   "cell_type": "code",
   "execution_count": 6,
   "metadata": {},
   "outputs": [
    {
     "data": {
      "text/plain": [
       "['wanning',\n",
       " 'mar del plata',\n",
       " 'chokurdakh',\n",
       " 'esperance',\n",
       " 'cuite',\n",
       " 'clyde river',\n",
       " 'paramonga',\n",
       " 'bambous virieux',\n",
       " 'rikitea',\n",
       " 'bucak',\n",
       " 'vaini',\n",
       " 'kaitangata',\n",
       " 'souillac',\n",
       " 'port elizabeth',\n",
       " 'punta arenas',\n",
       " 'thompson',\n",
       " 'puerto ayora',\n",
       " 'saint-philippe',\n",
       " 'antofagasta',\n",
       " 'halalo']"
      ]
     },
     "execution_count": 6,
     "metadata": {},
     "output_type": "execute_result"
    }
   ],
   "source": [
    "# lets check the first 20 items of the list to see if the the call to \n",
    "#citipy.nearest_city(lat_lng[0], lat_lng[1]).city_name worked\n",
    "cities[0:20]"
   ]
  },
  {
   "cell_type": "markdown",
   "metadata": {},
   "source": [
    "Next, lets just make one API call so using the first item in the cities list. We do this so we can check that json data strucuture. "
   ]
  },
  {
   "cell_type": "code",
   "execution_count": 7,
   "metadata": {},
   "outputs": [
    {
     "name": "stdout",
     "output_type": "stream",
     "text": [
      "{\n",
      "    \"base\": \"stations\",\n",
      "    \"clouds\": {\n",
      "        \"all\": 100\n",
      "    },\n",
      "    \"cod\": 200,\n",
      "    \"coord\": {\n",
      "        \"lat\": 18.8003,\n",
      "        \"lon\": 110.3967\n",
      "    },\n",
      "    \"dt\": 1610351050,\n",
      "    \"id\": 1791779,\n",
      "    \"main\": {\n",
      "        \"feels_like\": 40.84,\n",
      "        \"grnd_level\": 1021,\n",
      "        \"humidity\": 76,\n",
      "        \"pressure\": 1022,\n",
      "        \"sea_level\": 1022,\n",
      "        \"temp\": 52.41,\n",
      "        \"temp_max\": 52.41,\n",
      "        \"temp_min\": 52.41\n",
      "    },\n",
      "    \"name\": \"Wanning\",\n",
      "    \"sys\": {\n",
      "        \"country\": \"CN\",\n",
      "        \"sunrise\": 1610320413,\n",
      "        \"sunset\": 1610360311\n",
      "    },\n",
      "    \"timezone\": 28800,\n",
      "    \"visibility\": 10000,\n",
      "    \"weather\": [\n",
      "        {\n",
      "            \"description\": \"overcast clouds\",\n",
      "            \"icon\": \"04d\",\n",
      "            \"id\": 804,\n",
      "            \"main\": \"Clouds\"\n",
      "        }\n",
      "    ],\n",
      "    \"wind\": {\n",
      "        \"deg\": 349,\n",
      "        \"speed\": 18.5\n",
      "    }\n",
      "}\n"
     ]
    }
   ],
   "source": [
    "# test one API call to check json\n",
    "url = \"http://api.openweathermap.org/data/2.5/weather?units=Imperial&APPID=\" + weather_api_key\n",
    "\n",
    "# append firt city from list to url\n",
    "city_url = url + \"&q=\" + cities[0]\n",
    "\n",
    "# amke one API call to check\n",
    "response = requests.get(city_url).json()\n",
    "\n",
    "# view json and inspect data structure\n",
    "print(json.dumps(response, indent=4, sort_keys=True))"
   ]
  },
  {
   "cell_type": "markdown",
   "metadata": {},
   "source": [
    "We know we need to get max temp, so let's pull out that value. "
   ]
  },
  {
   "cell_type": "code",
   "execution_count": 8,
   "metadata": {},
   "outputs": [
    {
     "data": {
      "text/plain": [
       "52.41"
      ]
     },
     "execution_count": 8,
     "metadata": {},
     "output_type": "execute_result"
    }
   ],
   "source": [
    "response['main']['temp_max']"
   ]
  },
  {
   "cell_type": "markdown",
   "metadata": {},
   "source": [
    "Now we kbow how to make one API call, and we can pull out one value we need, lets make a loop to iterate over our cities. However, out list has 600+ values - this might take a long time to run. Instead, lets use a small subset of the list for testing purposes."
   ]
  },
  {
   "cell_type": "code",
   "execution_count": 9,
   "metadata": {},
   "outputs": [],
   "source": [
    "cities_small = cities[0:5]"
   ]
  },
  {
   "cell_type": "markdown",
   "metadata": {},
   "source": [
    "Now we can loop over out cities, making an API call each time, then extracting the max temp. Let's take the max temp and store it in a list. We can use this approach for all of the values we need. "
   ]
  },
  {
   "cell_type": "code",
   "execution_count": 10,
   "metadata": {},
   "outputs": [],
   "source": [
    "# Starting URL for Weather Map API Call\n",
    "url = \"http://api.openweathermap.org/data/2.5/weather?units=Imperial&APPID=\" + weather_api_key\n",
    "\n",
    "max_temp = []\n",
    "city_name = []\n",
    "\n",
    "for city in cities_small:\n",
    "    \n",
    "    # append firt city from list to url\n",
    "    city_url = url + \"&q=\" + city\n",
    "    \n",
    "    # make the API call\n",
    "    response = requests.get(city_url).json()\n",
    "    \n",
    "    # append data to list\n",
    "    max_temp.append(response['main']['temp_max'])"
   ]
  },
  {
   "cell_type": "code",
   "execution_count": 11,
   "metadata": {},
   "outputs": [
    {
     "data": {
      "text/plain": [
       "[52.41, 66, -34.31, 68, 65.25]"
      ]
     },
     "execution_count": 11,
     "metadata": {},
     "output_type": "execute_result"
    }
   ],
   "source": [
    "max_temp"
   ]
  },
  {
   "cell_type": "code",
   "execution_count": null,
   "metadata": {},
   "outputs": [],
   "source": []
  }
 ],
 "metadata": {
  "kernelspec": {
   "display_name": "Python 3",
   "language": "python",
   "name": "python3"
  },
  "language_info": {
   "codemirror_mode": {
    "name": "ipython",
    "version": 3
   },
   "file_extension": ".py",
   "mimetype": "text/x-python",
   "name": "python",
   "nbconvert_exporter": "python",
   "pygments_lexer": "ipython3",
   "version": "3.6.10"
  }
 },
 "nbformat": 4,
 "nbformat_minor": 4
}
